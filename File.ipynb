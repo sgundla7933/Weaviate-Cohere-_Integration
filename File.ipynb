{
  "nbformat": 4,
  "nbformat_minor": 0,
  "metadata": {
    "colab": {
      "provenance": []
    },
    "kernelspec": {
      "name": "python3",
      "display_name": "Python 3"
    },
    "language_info": {
      "name": "python"
    }
  },
  "cells": [
    {
      "cell_type": "code",
      "execution_count": 3,
      "metadata": {
        "colab": {
          "base_uri": "https://localhost:8080/"
        },
        "id": "dhyfH2yDjGD6",
        "outputId": "3ead9945-7635-46ec-e45d-787ada21ecc7"
      },
      "outputs": [
        {
          "output_type": "stream",
          "name": "stdout",
          "text": [
            "Requirement already satisfied: weaviate-client==3.26.7 in /usr/local/lib/python3.10/dist-packages (3.26.7)\n",
            "Collecting cohere\n",
            "  Downloading cohere-5.13.0-py3-none-any.whl.metadata (3.5 kB)\n",
            "Requirement already satisfied: requests<3.0.0,>=2.32.2 in /usr/local/lib/python3.10/dist-packages (from weaviate-client==3.26.7) (2.32.3)\n",
            "Requirement already satisfied: validators<1.0.0,>=0.21.2 in /usr/local/lib/python3.10/dist-packages (from weaviate-client==3.26.7) (0.34.0)\n",
            "Requirement already satisfied: authlib<2.0.0,>=1.3.1 in /usr/local/lib/python3.10/dist-packages (from weaviate-client==3.26.7) (1.3.2)\n",
            "Collecting fastavro<2.0.0,>=1.9.4 (from cohere)\n",
            "  Downloading fastavro-1.9.7-cp310-cp310-manylinux_2_17_x86_64.manylinux2014_x86_64.whl.metadata (5.5 kB)\n",
            "Requirement already satisfied: httpx>=0.21.2 in /usr/local/lib/python3.10/dist-packages (from cohere) (0.27.2)\n",
            "Collecting httpx-sse==0.4.0 (from cohere)\n",
            "  Downloading httpx_sse-0.4.0-py3-none-any.whl.metadata (9.0 kB)\n",
            "Collecting parameterized<0.10.0,>=0.9.0 (from cohere)\n",
            "  Downloading parameterized-0.9.0-py2.py3-none-any.whl.metadata (18 kB)\n",
            "Requirement already satisfied: pydantic>=1.9.2 in /usr/local/lib/python3.10/dist-packages (from cohere) (2.9.2)\n",
            "Requirement already satisfied: pydantic-core<3.0.0,>=2.18.2 in /usr/local/lib/python3.10/dist-packages (from cohere) (2.23.4)\n",
            "Requirement already satisfied: tokenizers<1,>=0.15 in /usr/local/lib/python3.10/dist-packages (from cohere) (0.20.3)\n",
            "Collecting types-requests<3.0.0,>=2.0.0 (from cohere)\n",
            "  Downloading types_requests-2.32.0.20241016-py3-none-any.whl.metadata (1.9 kB)\n",
            "Requirement already satisfied: typing_extensions>=4.0.0 in /usr/local/lib/python3.10/dist-packages (from cohere) (4.12.2)\n",
            "Requirement already satisfied: cryptography in /usr/local/lib/python3.10/dist-packages (from authlib<2.0.0,>=1.3.1->weaviate-client==3.26.7) (43.0.3)\n",
            "Requirement already satisfied: anyio in /usr/local/lib/python3.10/dist-packages (from httpx>=0.21.2->cohere) (3.7.1)\n",
            "Requirement already satisfied: certifi in /usr/local/lib/python3.10/dist-packages (from httpx>=0.21.2->cohere) (2024.8.30)\n",
            "Requirement already satisfied: httpcore==1.* in /usr/local/lib/python3.10/dist-packages (from httpx>=0.21.2->cohere) (1.0.7)\n",
            "Requirement already satisfied: idna in /usr/local/lib/python3.10/dist-packages (from httpx>=0.21.2->cohere) (3.10)\n",
            "Requirement already satisfied: sniffio in /usr/local/lib/python3.10/dist-packages (from httpx>=0.21.2->cohere) (1.3.1)\n",
            "Requirement already satisfied: h11<0.15,>=0.13 in /usr/local/lib/python3.10/dist-packages (from httpcore==1.*->httpx>=0.21.2->cohere) (0.14.0)\n",
            "Requirement already satisfied: annotated-types>=0.6.0 in /usr/local/lib/python3.10/dist-packages (from pydantic>=1.9.2->cohere) (0.7.0)\n",
            "Requirement already satisfied: charset-normalizer<4,>=2 in /usr/local/lib/python3.10/dist-packages (from requests<3.0.0,>=2.32.2->weaviate-client==3.26.7) (3.4.0)\n",
            "Requirement already satisfied: urllib3<3,>=1.21.1 in /usr/local/lib/python3.10/dist-packages (from requests<3.0.0,>=2.32.2->weaviate-client==3.26.7) (2.2.3)\n",
            "Requirement already satisfied: huggingface-hub<1.0,>=0.16.4 in /usr/local/lib/python3.10/dist-packages (from tokenizers<1,>=0.15->cohere) (0.26.2)\n",
            "Requirement already satisfied: filelock in /usr/local/lib/python3.10/dist-packages (from huggingface-hub<1.0,>=0.16.4->tokenizers<1,>=0.15->cohere) (3.16.1)\n",
            "Requirement already satisfied: fsspec>=2023.5.0 in /usr/local/lib/python3.10/dist-packages (from huggingface-hub<1.0,>=0.16.4->tokenizers<1,>=0.15->cohere) (2024.10.0)\n",
            "Requirement already satisfied: packaging>=20.9 in /usr/local/lib/python3.10/dist-packages (from huggingface-hub<1.0,>=0.16.4->tokenizers<1,>=0.15->cohere) (24.2)\n",
            "Requirement already satisfied: pyyaml>=5.1 in /usr/local/lib/python3.10/dist-packages (from huggingface-hub<1.0,>=0.16.4->tokenizers<1,>=0.15->cohere) (6.0.2)\n",
            "Requirement already satisfied: tqdm>=4.42.1 in /usr/local/lib/python3.10/dist-packages (from huggingface-hub<1.0,>=0.16.4->tokenizers<1,>=0.15->cohere) (4.66.6)\n",
            "Requirement already satisfied: exceptiongroup in /usr/local/lib/python3.10/dist-packages (from anyio->httpx>=0.21.2->cohere) (1.2.2)\n",
            "Requirement already satisfied: cffi>=1.12 in /usr/local/lib/python3.10/dist-packages (from cryptography->authlib<2.0.0,>=1.3.1->weaviate-client==3.26.7) (1.17.1)\n",
            "Requirement already satisfied: pycparser in /usr/local/lib/python3.10/dist-packages (from cffi>=1.12->cryptography->authlib<2.0.0,>=1.3.1->weaviate-client==3.26.7) (2.22)\n",
            "Downloading cohere-5.13.0-py3-none-any.whl (249 kB)\n",
            "\u001b[2K   \u001b[90m━━━━━━━━━━━━━━━━━━━━━━━━━━━━━━━━━━━━━━━━\u001b[0m \u001b[32m249.7/249.7 kB\u001b[0m \u001b[31m6.6 MB/s\u001b[0m eta \u001b[36m0:00:00\u001b[0m\n",
            "\u001b[?25hDownloading httpx_sse-0.4.0-py3-none-any.whl (7.8 kB)\n",
            "Downloading fastavro-1.9.7-cp310-cp310-manylinux_2_17_x86_64.manylinux2014_x86_64.whl (3.1 MB)\n",
            "\u001b[2K   \u001b[90m━━━━━━━━━━━━━━━━━━━━━━━━━━━━━━━━━━━━━━━━\u001b[0m \u001b[32m3.1/3.1 MB\u001b[0m \u001b[31m48.3 MB/s\u001b[0m eta \u001b[36m0:00:00\u001b[0m\n",
            "\u001b[?25hDownloading parameterized-0.9.0-py2.py3-none-any.whl (20 kB)\n",
            "Downloading types_requests-2.32.0.20241016-py3-none-any.whl (15 kB)\n",
            "Installing collected packages: types-requests, parameterized, httpx-sse, fastavro, cohere\n",
            "Successfully installed cohere-5.13.0 fastavro-1.9.7 httpx-sse-0.4.0 parameterized-0.9.0 types-requests-2.32.0.20241016\n"
          ]
        }
      ],
      "source": [
        "!pip install weaviate-client==3.26.7 cohere\n"
      ]
    },
    {
      "cell_type": "code",
      "source": [
        "import cohere\n",
        "import weaviate\n",
        "from weaviate.auth import AuthApiKey\n",
        "from weaviate.client import Client\n",
        "\n",
        "# Replace these with your actual API details\n",
        "COHERE_API_KEY = 'kMpYK4Rdt9n3bDWq51X2jB1velL37HLGcYaEQxQH'\n",
        "WEAVIATE_API_URL = 'https://q9tifnhrji69o2trnusng.c0.us-west3.gcp.weaviate.cloud'\n",
        "WEAVIATE_API_KEY = 'EcH5BCtyjy2zX0fuTjdwecJPnNeZXcaNEo1k'\n",
        "\n",
        "# Initialize Cohere client\n",
        "co = cohere.Client(COHERE_API_KEY)\n",
        "\n",
        "# Initialize Weaviate v3 client\n",
        "client = weaviate.Client(\n",
        "    url=WEAVIATE_API_URL,\n",
        "    auth_client_secret=AuthApiKey(WEAVIATE_API_KEY),\n",
        "    additional_headers={\"X-Cohere-Api-Key\": COHERE_API_KEY}\n",
        ")\n",
        "\n",
        "# Define utility functions\n",
        "def dense_retrieval(query, client):\n",
        "    print(f\"Dense retrieval for: {query}\")\n",
        "    return [{\"title\": \"Example Title\", \"text\": \"Example Text\"}]\n",
        "\n",
        "def keyword_search(query, client, properties, num_results):\n",
        "    print(f\"Keyword search for: {query}\")\n",
        "    return [{\"title\": \"Example Title\", \"text\": \"Example Text\"}]\n",
        "\n",
        "def print_result(results):\n",
        "    for result in results:\n",
        "        print(result)\n",
        "\n",
        "# Example query and execution\n",
        "query = \"What is the capital of Canada?\"\n",
        "dense_retrieval_results = dense_retrieval(query, client)\n",
        "print_result(dense_retrieval_results)\n",
        "\n",
        "# Reranking example\n",
        "def rerank_responses(query, responses, num_responses=10):\n",
        "    reranked_responses = co.rerank(\n",
        "        model='rerank-english-v2.0',\n",
        "        query=query,\n",
        "        documents=responses,\n",
        "        top_n=num_responses,\n",
        "    )\n",
        "    return reranked_responses\n",
        "\n",
        "texts = [result.get('text') for result in dense_retrieval_results]\n",
        "reranked_text = rerank_responses(query, texts)\n",
        "\n",
        "for i, rerank_result in enumerate(reranked_text):\n",
        "    print(f\"i:{i}\")\n",
        "    print(rerank_result)\n"
      ],
      "metadata": {
        "colab": {
          "base_uri": "https://localhost:8080/"
        },
        "id": "YLp7TyWNjIgT",
        "outputId": "51137c4b-985c-49af-c60e-b441bf63ab39"
      },
      "execution_count": 4,
      "outputs": [
        {
          "output_type": "stream",
          "name": "stdout",
          "text": [
            "Dense retrieval for: What is the capital of Canada?\n",
            "{'title': 'Example Title', 'text': 'Example Text'}\n",
            "i:0\n",
            "('id', 'f47ca983-baa5-4f55-b537-084b2d0a36e3')\n",
            "i:1\n",
            "('results', [RerankResponseResultsItem(document=None, index=0, relevance_score=0.69904906)])\n",
            "i:2\n",
            "('meta', ApiMeta(api_version=ApiMetaApiVersion(version='1', is_deprecated=None, is_experimental=None), billed_units=ApiMetaBilledUnits(images=None, input_tokens=None, output_tokens=None, search_units=1.0, classifications=None), tokens=None, warnings=None))\n"
          ]
        }
      ]
    }
  ]
}